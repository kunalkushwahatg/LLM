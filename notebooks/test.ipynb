{
 "cells": [
  {
   "cell_type": "code",
   "execution_count": 1,
   "id": "64a5a38f-7145-4eb9-a580-c2e757cc7b14",
   "metadata": {},
   "outputs": [],
   "source": [
    "import torch\n",
    "from transformers import AutoModelForCausalLM\n",
    "from transformers import AutoTokenizer\n",
    "import json"
   ]
  },
  {
   "cell_type": "code",
   "execution_count": 2,
   "id": "c1d94dd2-83e0-401b-8fe5-50b3d88011c6",
   "metadata": {},
   "outputs": [],
   "source": [
    "config_path = \"../config/pretrain_config.json\"\n",
    "with open(config_path, \"r\") as f:\n",
    "    config = json.load(f)"
   ]
  },
  {
   "cell_type": "code",
   "execution_count": 3,
   "id": "0b87b609-4a1c-4a84-8a20-cb2ef158ec40",
   "metadata": {},
   "outputs": [
    {
     "name": "stderr",
     "output_type": "stream",
     "text": [
      "/home/kunalkushwahatg/anaconda3/envs/research/lib/python3.10/site-packages/torch/cuda/__init__.py:118: UserWarning: CUDA initialization: CUDA unknown error - this may be due to an incorrectly set up environment, e.g. changing env variable CUDA_VISIBLE_DEVICES after program start. Setting the available devices to be zero. (Triggered internally at ../c10/cuda/CUDAFunctions.cpp:108.)\n",
      "  return torch._C._cuda_getDeviceCount() > 0\n"
     ]
    }
   ],
   "source": [
    "model_path =  \"../models/\"+config['model_name']\n",
    "tokenizer_path = \"../tokenizers/\"+config['tokenizer_name']\n",
    "device = torch.device(\"cuda\" if torch.cuda.is_available() else \"cpu\")"
   ]
  },
  {
   "cell_type": "code",
   "execution_count": 4,
   "id": "01e3d564",
   "metadata": {},
   "outputs": [
    {
     "name": "stdout",
     "output_type": "stream",
     "text": [
      "/home/kunalkushwahatg/Research/src/pretraining\n"
     ]
    }
   ],
   "source": [
    "cd ../src/pretraining/"
   ]
  },
  {
   "cell_type": "code",
   "execution_count": 7,
   "id": "95aa80c5",
   "metadata": {},
   "outputs": [],
   "source": [
    "from model_hf import GPT2Model \n",
    "model = GPT2Model().load_model()\n",
    "device = torch.device(\"cuda\" if torch.cuda.is_available() else \"cpu\")\n",
    "# print(device)\n",
    "tokenizer = AutoTokenizer.from_pretrained(config[\"tokenizer_name\"])\n",
    "tokenizer.pad_token = tokenizer.eos_token"
   ]
  },
  {
   "cell_type": "code",
   "execution_count": 5,
   "id": "ca5818ec-2d4f-4291-995a-b38e2e691526",
   "metadata": {},
   "outputs": [],
   "source": [
    "model =AutoModelForCausalLM.from_pretrained(\"gpt2\")\n",
    "tokenizer = AutoTokenizer.from_pretrained(\"gpt2\")"
   ]
  },
  {
   "cell_type": "code",
   "execution_count": 8,
   "id": "35589738-dad8-41f2-a2a8-2431b01b9acb",
   "metadata": {},
   "outputs": [
    {
     "name": "stderr",
     "output_type": "stream",
     "text": [
      "The attention mask and the pad token id were not set. As a consequence, you may observe unexpected behavior. Please pass your input's `attention_mask` to obtain reliable results.\n",
      "Setting `pad_token_id` to `eos_token_id`:50256 for open-end generation.\n"
     ]
    },
    {
     "data": {
      "text/plain": [
       "['I was telling her that in  love of a mighty god of world domination, I would be the one to take her to the moon.\\n\\n\"I\\'m not sure what you mean by that,\" I said.\\n\\n\"I\\'m not sure what you mean by that,\" she said.\\n\\n\"I\\'m not sure what you mean by that,\" I said.\\n\\n\"I\\'m not sure what you mean by that,\" she said.\\n\\n\"I\\'m not sure what you mean by that,\" I said.\\n\\n\"I\\'m not']"
      ]
     },
     "execution_count": 8,
     "metadata": {},
     "output_type": "execute_result"
    }
   ],
   "source": [
    "prompts = \"I was telling her that in  love of a mighty god of world\"\n",
    "inputs = tokenizer(prompts,return_tensors='pt').input_ids\n",
    "outputs = model.generate(inputs, max_new_tokens=100)\n",
    "tokenizer.batch_decode(outputs, skip_special_tokens=True)"
   ]
  },
  {
   "cell_type": "code",
   "execution_count": 10,
   "id": "446baf16-2dd5-4a3c-89af-ed60f361eeee",
   "metadata": {},
   "outputs": [],
   "source": [
    "#load dataset from file\n",
    "from datasets import load_dataset , DatasetDict , load_from_disk\n",
    "\n",
    "dataset_load = DatasetDict({\n",
    "    \"train\": load_from_disk(\"../data/\"+config['dataset_name']+\"/train\"),\n",
    "    \"test\": load_from_disk(\"../data/\"+config['dataset_name']+\"/test\")\n",
    "})\n",
    "\n"
   ]
  },
  {
   "cell_type": "code",
   "execution_count": 11,
   "id": "e8ebdd26-3f52-4b64-a245-dfece827b44f",
   "metadata": {},
   "outputs": [
    {
     "name": "stdout",
     "output_type": "stream",
     "text": [
      "12176\n"
     ]
    }
   ],
   "source": [
    "#show lenght of dataset\n",
    "print(len(dataset_load['train']))"
   ]
  },
  {
   "cell_type": "code",
   "execution_count": 12,
   "id": "3e72e743",
   "metadata": {},
   "outputs": [
    {
     "name": "stdout",
     "output_type": "stream",
     "text": [
      "    Thou pardon me my wrongs. But how should Prospero  QUEEN ELIZABETH. Come, come, we know your meaning,  KING HENRY. Whether it be through force of your report,    Where being apprehended, his false cunning,    Must strike her sail and learn a while to serve    But come, my lord; and with a heavy heart,    Commencing in a truth? I am Thane of Cawdor.  SIR TOBY. Lechery! I defy lechery. There's one at the gate.\n",
      "[220, 220, 220, 34048, 27322, 502, 616, 2642, 82, 13, 887, 703, 815, 41342, 78, 220, 1195, 8924, 1677, 17852, 14887, 6242, 20702, 13, 7911, 11, 1282, 11, 356, 760, 534, 3616, 11, 220, 32957, 367, 1677, 18276, 13, 10127, 340, 307, 832, 2700, 286, 534, 989, 11, 220, 220, 220, 6350, 852, 41979, 11, 465, 3991, 34218, 11, 220, 220, 220, 12039, 5587, 607, 14936, 290, 2193, 257, 981, 284, 4691, 220, 220, 220, 887, 1282, 11, 616, 15876, 26, 290, 351, 257, 4334, 2612, 11, 220, 220, 220, 1520, 9532, 287, 257, 3872, 30, 314, 716, 536, 1531, 286, 327, 707, 40180, 13, 220, 311, 4663, 5390, 17513, 13, 406, 721, 372, 88, 0, 314, 37462, 443, 31132, 13, 1318, 338, 530, 379, 262, 8946, 13]\n",
      "\n",
      "\n",
      "\n",
      "\n",
      "    At your request a little from himself.    And I am sick at heart.    Right noble is thy merit, well I wot.Enter two or three MURDERERS running over the stage,    Is it excepted I should know no secrets    POINS. I would think thee a most princely hypocrite.    makes it.    That westward rooteth from the city's side,      Hume's knavery will be the Duchess' wreck,  ANNE. Name him.    Makes me with heavy nothing\n",
      "[220, 220, 220, 1629, 534, 2581, 257, 1310, 422, 2241, 13, 220, 220, 220, 843, 314, 716, 6639, 379, 2612, 13, 220, 220, 220, 6498, 15581, 318, 11906, 17004, 11, 880, 314, 266, 313, 13, 17469, 734, 393, 1115, 337, 4261, 14418, 4877, 2491, 625, 262, 3800, 11, 220, 220, 220, 1148, 340, 2845, 276, 314, 815, 760, 645, 13141, 220, 220, 220, 19922, 20913, 13, 314, 561, 892, 17903, 257, 749, 19716, 306, 25258, 578, 13, 220, 220, 220, 1838, 340, 13, 220, 220, 220, 1320, 7421, 904, 6808, 2788, 422, 262, 1748, 338, 1735, 11, 220, 220, 220, 220, 220, 45485, 338, 638, 12447, 481, 307, 262, 40289, 6, 15228, 11, 220, 3537, 12161, 13, 6530, 683, 13, 220, 220, 220, 27433, 502, 351, 4334, 2147]\n",
      "\n",
      "\n",
      "\n",
      "\n",
      " faint and shrink.  BASSANIO.  [Aside]  Why, I were best to cut my left hand off,    How I did thrive in this fair lady's love  Romans and Goths, Senators, Tribunes, Officers, Soldiers, and  LEWIS. But is he gracious in the people's eye?    To feast upon whole thousands of the French.  DUKE. I know none. Can you tell me of any?    A sample to the youngest; to th' more mature  ROSALINE. Another of these students at that time  FRENCH\n",
      "[18107, 290, 22085, 13, 220, 347, 10705, 1565, 9399, 13, 220, 685, 32602, 60, 220, 4162, 11, 314, 547, 1266, 284, 2005, 616, 1364, 1021, 572, 11, 220, 220, 220, 1374, 314, 750, 22191, 287, 428, 3148, 10846, 338, 1842, 220, 22482, 290, 18827, 82, 11, 22195, 11, 10841, 4015, 11, 23512, 11, 28179, 11, 290, 220, 406, 6217, 1797, 13, 887, 318, 339, 43210, 287, 262, 661, 338, 4151, 30, 220, 220, 220, 1675, 26951, 2402, 2187, 4138, 286, 262, 4141, 13, 220, 35480, 7336, 13, 314, 760, 4844, 13, 1680, 345, 1560, 502, 286, 597, 30, 220, 220, 220, 317, 6291, 284, 262, 18887, 26, 284, 294, 6, 517, 15345, 220, 48263, 1847, 8881, 13, 6023, 286, 777, 2444, 379, 326, 640, 220, 8782, 1677, 3398]\n",
      "\n",
      "\n",
      "\n",
      "\n",
      " KING. You shall be soon dispatch'd with fair conditions.               Enter Rosencrantz and Guildenstern.    Tells them he doth bestride a bleeding land,     They have travell'd all the night? Mere fetches-  I will acquaintance strangle and look strange:  CORIOLANUS. Well then, I pray, your price o' th' consulship?    So his mind cankers. I will plague them all,    It may lie gently at the foot\n",
      "[32957, 13, 921, 2236, 307, 2582, 27965, 1549, 351, 3148, 3403, 13, 220, 220, 220, 220, 220, 220, 220, 220, 220, 220, 220, 220, 220, 220, 6062, 15564, 66, 5250, 89, 290, 16446, 268, 301, 1142, 13, 220, 220, 220, 14026, 82, 606, 339, 288, 849, 1266, 13154, 257, 16832, 1956, 11, 220, 220, 220, 220, 1119, 423, 10160, 297, 1549, 477, 262, 1755, 30, 337, 567, 11351, 2052, 12, 220, 314, 481, 35552, 965, 9248, 290, 804, 6283, 25, 220, 23929, 40, 3535, 1565, 2937, 13, 3894, 788, 11, 314, 12472, 11, 534, 2756, 267, 6, 294, 6, 762, 5753, 1056, 30, 220, 220, 220, 1406, 465, 2000, 460, 15949, 13, 314, 481, 23684, 606, 477, 11, 220, 220, 220, 632, 743, 6486, 15165, 379, 262, 2366]\n",
      "\n",
      "\n",
      "\n",
      "\n",
      " of peace    For his advantage that I dearly love.    The next news is, I have to London sent     Unfriended, new adopted to our hate,    endured; and in the reproof of this lies the jest.     I am a very foolish fond old man,    would think his mother's milk were scarce out of him.    That spoil'd your summer fields and fruitful vines,    In fellest manner execute your arms.    Up to the rowel-head; and starting so,    his\n",
      "[286, 4167, 220, 220, 220, 1114, 465, 4621, 326, 314, 46379, 1842, 13, 220, 220, 220, 383, 1306, 1705, 318, 11, 314, 423, 284, 3576, 1908, 220, 220, 220, 220, 791, 6726, 276, 11, 649, 8197, 284, 674, 5465, 11, 220, 220, 220, 24067, 26, 290, 287, 262, 43969, 1659, 286, 428, 7363, 262, 474, 395, 13, 220, 220, 220, 220, 314, 716, 257, 845, 19538, 16245, 1468, 582, 11, 220, 220, 220, 561, 892, 465, 2802, 338, 7545, 547, 18549, 503, 286, 683, 13, 220, 220, 220, 1320, 20851, 1549, 534, 3931, 7032, 290, 44474, 44439, 11, 220, 220, 220, 554, 3214, 395, 5642, 12260, 534, 5101, 13, 220, 220, 220, 3205, 284, 262, 5752, 417, 12, 2256, 26, 290, 3599, 523, 11, 220, 220, 220, 465]\n",
      "\n",
      "\n",
      "\n",
      "\n",
      " ribs, that there is little hope of life in him. So he serv'd    I'll stay no longer question.    serve her; she is my lady. Why, this is evident to any formal    Enforce the present execution    Your most grave belly was deliberate,  To know my shames and praises from your tongue,    This sport, well carried, shall be chronicled.    Had bak'd thy blood and made it heavy-thick,    As shall with either part's agreement stand?      Unless this general evil they\n",
      "[27105, 11, 326, 612, 318, 1310, 2911, 286, 1204, 287, 683, 13, 1406, 339, 1113, 1549, 220, 220, 220, 314, 1183, 2652, 645, 2392, 1808, 13, 220, 220, 220, 4691, 607, 26, 673, 318, 616, 10846, 13, 4162, 11, 428, 318, 10678, 284, 597, 8766, 220, 220, 220, 2039, 3174, 262, 1944, 9706, 220, 220, 220, 3406, 749, 12296, 19921, 373, 18988, 11, 220, 1675, 760, 616, 427, 1047, 290, 40221, 422, 534, 11880, 11, 220, 220, 220, 770, 6332, 11, 880, 5281, 11, 2236, 307, 10726, 992, 13, 220, 220, 220, 11161, 275, 461, 1549, 11906, 2910, 290, 925, 340, 4334, 12, 400, 624, 11, 220, 220, 220, 1081, 2236, 351, 2035, 636, 338, 4381, 1302, 30, 220, 220, 220, 220, 220, 17486, 428, 2276, 6181, 484]\n",
      "\n",
      "\n",
      "\n",
      "\n",
      " maintain,  Therefore my mistress' eyes are raven black,    Why, cousin, wert thou regent of the world,    And ten to one is no impeach of valour.    What woman is, yea, what she cannot choose    Swear me, Kate, like a lady as thou art,    For peace, for love, for league, and good to Rome.    Here's many else have done, you shout me forth    Giving our holy virgins to the stainPROVIDED BY PROJECT GUTENBERG ETEXT OF\n",
      "[5529, 11, 220, 8447, 616, 37769, 6, 2951, 389, 37735, 2042, 11, 220, 220, 220, 4162, 11, 16933, 11, 266, 861, 14210, 842, 298, 286, 262, 995, 11, 220, 220, 220, 843, 3478, 284, 530, 318, 645, 18516, 620, 286, 1188, 454, 13, 220, 220, 220, 1867, 2415, 318, 11, 44642, 11, 644, 673, 2314, 3853, 220, 220, 220, 2451, 451, 502, 11, 16693, 11, 588, 257, 10846, 355, 14210, 1242, 11, 220, 220, 220, 1114, 4167, 11, 329, 1842, 11, 329, 4652, 11, 290, 922, 284, 10598, 13, 220, 220, 220, 3423, 338, 867, 2073, 423, 1760, 11, 345, 9191, 502, 6071, 220, 220, 220, 35603, 674, 11386, 5709, 29878, 284, 262, 18746, 41283, 2389, 1961, 11050, 21965, 23680, 402, 3843, 1677, 13246, 38, 12152, 13918, 3963]\n",
      "\n",
      "\n",
      "\n",
      "\n",
      " ILLINOIS BENEDICTINE COLLEGE  '\"O then advance of yours that phraseless hand    The breath of worldly men cannot depose      If you do find them deck'd with ceremonies.    Is wasteful and ridiculous excess.    Press not a falling man too far! 'Tis virtue.    To breakfast once forth of my company.                            and others    daughter.  Against your yet ungalled estimation\n",
      "[314, 3069, 46016, 1797, 44849, 1961, 18379, 8881, 20444, 2538, 8264, 220, 705, 1, 46, 788, 5963, 286, 12431, 326, 7607, 292, 5321, 1021, 220, 220, 220, 383, 8033, 286, 43249, 1450, 2314, 1207, 577, 220, 220, 220, 220, 220, 1002, 345, 466, 1064, 606, 6203, 1549, 351, 27340, 13, 220, 220, 220, 1148, 45393, 290, 11441, 6992, 13, 220, 220, 220, 4332, 407, 257, 7463, 582, 1165, 1290, 0, 705, 51, 271, 14675, 13, 220, 220, 220, 1675, 12607, 1752, 6071, 286, 616, 1664, 13, 220, 220, 220, 220, 220, 220, 220, 220, 220, 220, 220, 220, 220, 220, 220, 220, 220, 220, 220, 220, 220, 220, 220, 220, 220, 220, 220, 290, 1854, 220, 220, 220, 4957, 13, 220, 12914, 534, 1865, 555, 70, 4262, 31850]\n",
      "\n",
      "\n",
      "\n",
      "\n",
      "    Angelo? They have confess'd you did.    To bear this tidings to the bloody King.    you.     Bore the commission of my place and person,                                                      Exit WIDOW                       ACT V. SCENE I\n",
      "[220, 220, 220, 48886, 30, 1119, 423, 22127, 1549, 345, 750, 13, 220, 220, 220, 1675, 6842, 428, 29770, 654, 284, 262, 15222, 2677, 13, 220, 220, 220, 345, 13, 220, 220, 220, 220, 45409, 262, 5810, 286, 616, 1295, 290, 1048, 11, 220, 220, 220, 220, 220, 220, 220, 220, 220, 220, 220, 220, 220, 220, 220, 220, 220, 220, 220, 220, 220, 220, 220, 220, 220, 220, 220, 220, 220, 220, 220, 220, 220, 220, 220, 220, 220, 220, 220, 220, 220, 220, 220, 220, 220, 220, 220, 220, 220, 220, 220, 220, 220, 29739, 370, 2389, 3913, 220, 220, 220, 220, 220, 220, 220, 220, 220, 220, 220, 220, 220, 220, 220, 220, 220, 220, 220, 220, 220, 220, 11741, 569, 13, 6374, 39267, 314]\n",
      "\n",
      "\n",
      "\n",
      "\n",
      ".    Fain would I dwell on form- fain, fain deny  KING. My Lord Chamberlain,  TROILUS. By whom, Aeneas?    Who, dipping all his faults in their affection,    Lilies that fester, smell far worse than weeds.    But that you shall sustain moe new disgraces  TITUS. A better head her glorious body fits    Perchance the Cardinal cannot make your peace;    court. They cherish it to make it stay there; and yet it will no    Of his most sovereign name\n",
      "[13, 220, 220, 220, 376, 391, 561, 314, 14046, 319, 1296, 12, 277, 391, 11, 277, 391, 10129, 220, 32957, 13, 2011, 4453, 45918, 11, 220, 7579, 49713, 2937, 13, 2750, 4150, 11, 317, 1734, 292, 30, 220, 220, 220, 5338, 11, 43144, 477, 465, 31025, 287, 511, 17696, 11, 220, 220, 220, 406, 3922, 326, 277, 7834, 11, 8508, 1290, 4785, 621, 36708, 13, 220, 220, 220, 887, 326, 345, 2236, 8080, 285, 2577, 649, 19329, 2114, 220, 37977, 2937, 13, 317, 1365, 1182, 607, 21140, 1767, 11414, 220, 220, 220, 2448, 39486, 262, 25564, 2314, 787, 534, 4167, 26, 220, 220, 220, 2184, 13, 1119, 48303, 340, 284, 787, 340, 2652, 612, 26, 290, 1865, 340, 481, 645, 220, 220, 220, 3226, 465, 749, 18901, 1438]\n",
      "\n",
      "\n",
      "\n",
      "\n"
     ]
    }
   ],
   "source": [
    "for i in range(10):\n",
    "    print(tokenizer.decode(dataset_load['train']['input_ids'][i]))\n",
    "    print(dataset_load['train']['input_ids'][i])\n",
    "    print(\"\\n\")\n",
    "    print(\"\\n\")"
   ]
  },
  {
   "cell_type": "code",
   "execution_count": 13,
   "id": "d9dffdb0",
   "metadata": {},
   "outputs": [
    {
     "name": "stderr",
     "output_type": "stream",
     "text": [
      "\u001b[34m\u001b[1mwandb\u001b[0m: \u001b[33mWARNING\u001b[0m The `run_name` is currently set to the same value as `TrainingArguments.output_dir`. If this was not intended, please specify a different run name by setting the `TrainingArguments.run_name` parameter.\n"
     ]
    },
    {
     "ename": "KeyboardInterrupt",
     "evalue": "",
     "output_type": "error",
     "traceback": [
      "\u001b[0;31m---------------------------------------------------------------------------\u001b[0m",
      "\u001b[0;31mKeyboardInterrupt\u001b[0m                         Traceback (most recent call last)",
      "Cell \u001b[0;32mIn[13], line 21\u001b[0m\n\u001b[1;32m      4\u001b[0m training_args \u001b[38;5;241m=\u001b[39m TrainingArguments(\n\u001b[1;32m      5\u001b[0m     output_dir\u001b[38;5;241m=\u001b[39m\u001b[38;5;124m\"\u001b[39m\u001b[38;5;124m../models/\u001b[39m\u001b[38;5;124m\"\u001b[39m\u001b[38;5;241m+\u001b[39mconfig[\u001b[38;5;124m'\u001b[39m\u001b[38;5;124mmodel_name\u001b[39m\u001b[38;5;124m'\u001b[39m]\u001b[38;5;241m+\u001b[39m\u001b[38;5;124m\"\u001b[39m\u001b[38;5;124m_finetuned\u001b[39m\u001b[38;5;124m\"\u001b[39m,\n\u001b[1;32m      6\u001b[0m     overwrite_output_dir\u001b[38;5;241m=\u001b[39m\u001b[38;5;28;01mTrue\u001b[39;00m,\n\u001b[0;32m   (...)\u001b[0m\n\u001b[1;32m     11\u001b[0m     prediction_loss_only\u001b[38;5;241m=\u001b[39m\u001b[38;5;28;01mTrue\u001b[39;00m,\n\u001b[1;32m     12\u001b[0m )\n\u001b[1;32m     14\u001b[0m trainer \u001b[38;5;241m=\u001b[39m Trainer(\n\u001b[1;32m     15\u001b[0m     model\u001b[38;5;241m=\u001b[39mmodel,\n\u001b[1;32m     16\u001b[0m     args\u001b[38;5;241m=\u001b[39mtraining_args,\n\u001b[1;32m     17\u001b[0m     train_dataset\u001b[38;5;241m=\u001b[39mdataset_load[\u001b[38;5;124m'\u001b[39m\u001b[38;5;124mtrain\u001b[39m\u001b[38;5;124m'\u001b[39m],\n\u001b[1;32m     18\u001b[0m     eval_dataset\u001b[38;5;241m=\u001b[39mdataset_load[\u001b[38;5;124m'\u001b[39m\u001b[38;5;124mtest\u001b[39m\u001b[38;5;124m'\u001b[39m],\n\u001b[1;32m     19\u001b[0m )\n\u001b[0;32m---> 21\u001b[0m \u001b[43mtrainer\u001b[49m\u001b[38;5;241;43m.\u001b[39;49m\u001b[43mtrain\u001b[49m\u001b[43m(\u001b[49m\u001b[43m)\u001b[49m\n\u001b[1;32m     22\u001b[0m trainer\u001b[38;5;241m.\u001b[39msave_model(\u001b[38;5;124m\"\u001b[39m\u001b[38;5;124m../models/\u001b[39m\u001b[38;5;124m\"\u001b[39m\u001b[38;5;241m+\u001b[39mconfig[\u001b[38;5;124m'\u001b[39m\u001b[38;5;124mmodel_name\u001b[39m\u001b[38;5;124m'\u001b[39m]\u001b[38;5;241m+\u001b[39m\u001b[38;5;124m\"\u001b[39m\u001b[38;5;124m_finetuned\u001b[39m\u001b[38;5;124m\"\u001b[39m)\n",
      "File \u001b[0;32m~/anaconda3/envs/research/lib/python3.10/site-packages/transformers/trainer.py:1885\u001b[0m, in \u001b[0;36mTrainer.train\u001b[0;34m(self, resume_from_checkpoint, trial, ignore_keys_for_eval, **kwargs)\u001b[0m\n\u001b[1;32m   1883\u001b[0m         hf_hub_utils\u001b[38;5;241m.\u001b[39menable_progress_bars()\n\u001b[1;32m   1884\u001b[0m \u001b[38;5;28;01melse\u001b[39;00m:\n\u001b[0;32m-> 1885\u001b[0m     \u001b[38;5;28;01mreturn\u001b[39;00m \u001b[43minner_training_loop\u001b[49m\u001b[43m(\u001b[49m\n\u001b[1;32m   1886\u001b[0m \u001b[43m        \u001b[49m\u001b[43margs\u001b[49m\u001b[38;5;241;43m=\u001b[39;49m\u001b[43margs\u001b[49m\u001b[43m,\u001b[49m\n\u001b[1;32m   1887\u001b[0m \u001b[43m        \u001b[49m\u001b[43mresume_from_checkpoint\u001b[49m\u001b[38;5;241;43m=\u001b[39;49m\u001b[43mresume_from_checkpoint\u001b[49m\u001b[43m,\u001b[49m\n\u001b[1;32m   1888\u001b[0m \u001b[43m        \u001b[49m\u001b[43mtrial\u001b[49m\u001b[38;5;241;43m=\u001b[39;49m\u001b[43mtrial\u001b[49m\u001b[43m,\u001b[49m\n\u001b[1;32m   1889\u001b[0m \u001b[43m        \u001b[49m\u001b[43mignore_keys_for_eval\u001b[49m\u001b[38;5;241;43m=\u001b[39;49m\u001b[43mignore_keys_for_eval\u001b[49m\u001b[43m,\u001b[49m\n\u001b[1;32m   1890\u001b[0m \u001b[43m    \u001b[49m\u001b[43m)\u001b[49m\n",
      "File \u001b[0;32m~/anaconda3/envs/research/lib/python3.10/site-packages/transformers/trainer.py:2147\u001b[0m, in \u001b[0;36mTrainer._inner_training_loop\u001b[0;34m(self, batch_size, args, resume_from_checkpoint, trial, ignore_keys_for_eval)\u001b[0m\n\u001b[1;32m   2144\u001b[0m model\u001b[38;5;241m.\u001b[39mzero_grad()\n\u001b[1;32m   2145\u001b[0m grad_norm: Optional[\u001b[38;5;28mfloat\u001b[39m] \u001b[38;5;241m=\u001b[39m \u001b[38;5;28;01mNone\u001b[39;00m\n\u001b[0;32m-> 2147\u001b[0m \u001b[38;5;28mself\u001b[39m\u001b[38;5;241m.\u001b[39mcontrol \u001b[38;5;241m=\u001b[39m \u001b[38;5;28;43mself\u001b[39;49m\u001b[38;5;241;43m.\u001b[39;49m\u001b[43mcallback_handler\u001b[49m\u001b[38;5;241;43m.\u001b[39;49m\u001b[43mon_train_begin\u001b[49m\u001b[43m(\u001b[49m\u001b[43margs\u001b[49m\u001b[43m,\u001b[49m\u001b[43m \u001b[49m\u001b[38;5;28;43mself\u001b[39;49m\u001b[38;5;241;43m.\u001b[39;49m\u001b[43mstate\u001b[49m\u001b[43m,\u001b[49m\u001b[43m \u001b[49m\u001b[38;5;28;43mself\u001b[39;49m\u001b[38;5;241;43m.\u001b[39;49m\u001b[43mcontrol\u001b[49m\u001b[43m)\u001b[49m\n\u001b[1;32m   2149\u001b[0m total_batched_samples \u001b[38;5;241m=\u001b[39m \u001b[38;5;241m0\u001b[39m\n\u001b[1;32m   2150\u001b[0m \u001b[38;5;28;01mfor\u001b[39;00m epoch \u001b[38;5;129;01min\u001b[39;00m \u001b[38;5;28mrange\u001b[39m(epochs_trained, num_train_epochs):\n",
      "File \u001b[0;32m~/anaconda3/envs/research/lib/python3.10/site-packages/transformers/trainer_callback.py:454\u001b[0m, in \u001b[0;36mCallbackHandler.on_train_begin\u001b[0;34m(self, args, state, control)\u001b[0m\n\u001b[1;32m    452\u001b[0m \u001b[38;5;28;01mdef\u001b[39;00m \u001b[38;5;21mon_train_begin\u001b[39m(\u001b[38;5;28mself\u001b[39m, args: TrainingArguments, state: TrainerState, control: TrainerControl):\n\u001b[1;32m    453\u001b[0m     control\u001b[38;5;241m.\u001b[39mshould_training_stop \u001b[38;5;241m=\u001b[39m \u001b[38;5;28;01mFalse\u001b[39;00m\n\u001b[0;32m--> 454\u001b[0m     \u001b[38;5;28;01mreturn\u001b[39;00m \u001b[38;5;28;43mself\u001b[39;49m\u001b[38;5;241;43m.\u001b[39;49m\u001b[43mcall_event\u001b[49m\u001b[43m(\u001b[49m\u001b[38;5;124;43m\"\u001b[39;49m\u001b[38;5;124;43mon_train_begin\u001b[39;49m\u001b[38;5;124;43m\"\u001b[39;49m\u001b[43m,\u001b[49m\u001b[43m \u001b[49m\u001b[43margs\u001b[49m\u001b[43m,\u001b[49m\u001b[43m \u001b[49m\u001b[43mstate\u001b[49m\u001b[43m,\u001b[49m\u001b[43m \u001b[49m\u001b[43mcontrol\u001b[49m\u001b[43m)\u001b[49m\n",
      "File \u001b[0;32m~/anaconda3/envs/research/lib/python3.10/site-packages/transformers/trainer_callback.py:498\u001b[0m, in \u001b[0;36mCallbackHandler.call_event\u001b[0;34m(self, event, args, state, control, **kwargs)\u001b[0m\n\u001b[1;32m    496\u001b[0m \u001b[38;5;28;01mdef\u001b[39;00m \u001b[38;5;21mcall_event\u001b[39m(\u001b[38;5;28mself\u001b[39m, event, args, state, control, \u001b[38;5;241m*\u001b[39m\u001b[38;5;241m*\u001b[39mkwargs):\n\u001b[1;32m    497\u001b[0m     \u001b[38;5;28;01mfor\u001b[39;00m callback \u001b[38;5;129;01min\u001b[39;00m \u001b[38;5;28mself\u001b[39m\u001b[38;5;241m.\u001b[39mcallbacks:\n\u001b[0;32m--> 498\u001b[0m         result \u001b[38;5;241m=\u001b[39m \u001b[38;5;28;43mgetattr\u001b[39;49m\u001b[43m(\u001b[49m\u001b[43mcallback\u001b[49m\u001b[43m,\u001b[49m\u001b[43m \u001b[49m\u001b[43mevent\u001b[49m\u001b[43m)\u001b[49m\u001b[43m(\u001b[49m\n\u001b[1;32m    499\u001b[0m \u001b[43m            \u001b[49m\u001b[43margs\u001b[49m\u001b[43m,\u001b[49m\n\u001b[1;32m    500\u001b[0m \u001b[43m            \u001b[49m\u001b[43mstate\u001b[49m\u001b[43m,\u001b[49m\n\u001b[1;32m    501\u001b[0m \u001b[43m            \u001b[49m\u001b[43mcontrol\u001b[49m\u001b[43m,\u001b[49m\n\u001b[1;32m    502\u001b[0m \u001b[43m            \u001b[49m\u001b[43mmodel\u001b[49m\u001b[38;5;241;43m=\u001b[39;49m\u001b[38;5;28;43mself\u001b[39;49m\u001b[38;5;241;43m.\u001b[39;49m\u001b[43mmodel\u001b[49m\u001b[43m,\u001b[49m\n\u001b[1;32m    503\u001b[0m \u001b[43m            \u001b[49m\u001b[43mtokenizer\u001b[49m\u001b[38;5;241;43m=\u001b[39;49m\u001b[38;5;28;43mself\u001b[39;49m\u001b[38;5;241;43m.\u001b[39;49m\u001b[43mtokenizer\u001b[49m\u001b[43m,\u001b[49m\n\u001b[1;32m    504\u001b[0m \u001b[43m            \u001b[49m\u001b[43moptimizer\u001b[49m\u001b[38;5;241;43m=\u001b[39;49m\u001b[38;5;28;43mself\u001b[39;49m\u001b[38;5;241;43m.\u001b[39;49m\u001b[43moptimizer\u001b[49m\u001b[43m,\u001b[49m\n\u001b[1;32m    505\u001b[0m \u001b[43m            \u001b[49m\u001b[43mlr_scheduler\u001b[49m\u001b[38;5;241;43m=\u001b[39;49m\u001b[38;5;28;43mself\u001b[39;49m\u001b[38;5;241;43m.\u001b[39;49m\u001b[43mlr_scheduler\u001b[49m\u001b[43m,\u001b[49m\n\u001b[1;32m    506\u001b[0m \u001b[43m            \u001b[49m\u001b[43mtrain_dataloader\u001b[49m\u001b[38;5;241;43m=\u001b[39;49m\u001b[38;5;28;43mself\u001b[39;49m\u001b[38;5;241;43m.\u001b[39;49m\u001b[43mtrain_dataloader\u001b[49m\u001b[43m,\u001b[49m\n\u001b[1;32m    507\u001b[0m \u001b[43m            \u001b[49m\u001b[43meval_dataloader\u001b[49m\u001b[38;5;241;43m=\u001b[39;49m\u001b[38;5;28;43mself\u001b[39;49m\u001b[38;5;241;43m.\u001b[39;49m\u001b[43meval_dataloader\u001b[49m\u001b[43m,\u001b[49m\n\u001b[1;32m    508\u001b[0m \u001b[43m            \u001b[49m\u001b[38;5;241;43m*\u001b[39;49m\u001b[38;5;241;43m*\u001b[39;49m\u001b[43mkwargs\u001b[49m\u001b[43m,\u001b[49m\n\u001b[1;32m    509\u001b[0m \u001b[43m        \u001b[49m\u001b[43m)\u001b[49m\n\u001b[1;32m    510\u001b[0m         \u001b[38;5;66;03m# A Callback can skip the return of `control` if it doesn't change it.\u001b[39;00m\n\u001b[1;32m    511\u001b[0m         \u001b[38;5;28;01mif\u001b[39;00m result \u001b[38;5;129;01mis\u001b[39;00m \u001b[38;5;129;01mnot\u001b[39;00m \u001b[38;5;28;01mNone\u001b[39;00m:\n",
      "File \u001b[0;32m~/anaconda3/envs/research/lib/python3.10/site-packages/transformers/integrations/integration_utils.py:773\u001b[0m, in \u001b[0;36mWandbCallback.on_train_begin\u001b[0;34m(self, args, state, control, model, **kwargs)\u001b[0m\n\u001b[1;32m    771\u001b[0m     args\u001b[38;5;241m.\u001b[39mrun_name \u001b[38;5;241m=\u001b[39m \u001b[38;5;28;01mNone\u001b[39;00m\n\u001b[1;32m    772\u001b[0m \u001b[38;5;28;01mif\u001b[39;00m \u001b[38;5;129;01mnot\u001b[39;00m \u001b[38;5;28mself\u001b[39m\u001b[38;5;241m.\u001b[39m_initialized:\n\u001b[0;32m--> 773\u001b[0m     \u001b[38;5;28;43mself\u001b[39;49m\u001b[38;5;241;43m.\u001b[39;49m\u001b[43msetup\u001b[49m\u001b[43m(\u001b[49m\u001b[43margs\u001b[49m\u001b[43m,\u001b[49m\u001b[43m \u001b[49m\u001b[43mstate\u001b[49m\u001b[43m,\u001b[49m\u001b[43m \u001b[49m\u001b[43mmodel\u001b[49m\u001b[43m,\u001b[49m\u001b[43m \u001b[49m\u001b[38;5;241;43m*\u001b[39;49m\u001b[38;5;241;43m*\u001b[39;49m\u001b[43mkwargs\u001b[49m\u001b[43m)\u001b[49m\n",
      "File \u001b[0;32m~/anaconda3/envs/research/lib/python3.10/site-packages/transformers/integrations/integration_utils.py:746\u001b[0m, in \u001b[0;36mWandbCallback.setup\u001b[0;34m(self, args, state, model, **kwargs)\u001b[0m\n\u001b[1;32m    739\u001b[0m         \u001b[38;5;28mself\u001b[39m\u001b[38;5;241m.\u001b[39m_wandb\u001b[38;5;241m.\u001b[39mtermwarn(\n\u001b[1;32m    740\u001b[0m             \u001b[38;5;124m\"\u001b[39m\u001b[38;5;124mThe `run_name` is currently set to the same value as `TrainingArguments.output_dir`. If this was \u001b[39m\u001b[38;5;124m\"\u001b[39m\n\u001b[1;32m    741\u001b[0m             \u001b[38;5;124m\"\u001b[39m\u001b[38;5;124mnot intended, please specify a different run name by setting the `TrainingArguments.run_name` parameter.\u001b[39m\u001b[38;5;124m\"\u001b[39m,\n\u001b[1;32m    742\u001b[0m             repeat\u001b[38;5;241m=\u001b[39m\u001b[38;5;28;01mFalse\u001b[39;00m,\n\u001b[1;32m    743\u001b[0m         )\n\u001b[1;32m    745\u001b[0m \u001b[38;5;28;01mif\u001b[39;00m \u001b[38;5;28mself\u001b[39m\u001b[38;5;241m.\u001b[39m_wandb\u001b[38;5;241m.\u001b[39mrun \u001b[38;5;129;01mis\u001b[39;00m \u001b[38;5;28;01mNone\u001b[39;00m:\n\u001b[0;32m--> 746\u001b[0m     \u001b[38;5;28;43mself\u001b[39;49m\u001b[38;5;241;43m.\u001b[39;49m\u001b[43m_wandb\u001b[49m\u001b[38;5;241;43m.\u001b[39;49m\u001b[43minit\u001b[49m\u001b[43m(\u001b[49m\n\u001b[1;32m    747\u001b[0m \u001b[43m        \u001b[49m\u001b[43mproject\u001b[49m\u001b[38;5;241;43m=\u001b[39;49m\u001b[43mos\u001b[49m\u001b[38;5;241;43m.\u001b[39;49m\u001b[43mgetenv\u001b[49m\u001b[43m(\u001b[49m\u001b[38;5;124;43m\"\u001b[39;49m\u001b[38;5;124;43mWANDB_PROJECT\u001b[39;49m\u001b[38;5;124;43m\"\u001b[39;49m\u001b[43m,\u001b[49m\u001b[43m \u001b[49m\u001b[38;5;124;43m\"\u001b[39;49m\u001b[38;5;124;43mhuggingface\u001b[39;49m\u001b[38;5;124;43m\"\u001b[39;49m\u001b[43m)\u001b[49m\u001b[43m,\u001b[49m\n\u001b[1;32m    748\u001b[0m \u001b[43m        \u001b[49m\u001b[38;5;241;43m*\u001b[39;49m\u001b[38;5;241;43m*\u001b[39;49m\u001b[43minit_args\u001b[49m\u001b[43m,\u001b[49m\n\u001b[1;32m    749\u001b[0m \u001b[43m    \u001b[49m\u001b[43m)\u001b[49m\n\u001b[1;32m    750\u001b[0m \u001b[38;5;66;03m# add config parameters (run may have been created manually)\u001b[39;00m\n\u001b[1;32m    751\u001b[0m \u001b[38;5;28mself\u001b[39m\u001b[38;5;241m.\u001b[39m_wandb\u001b[38;5;241m.\u001b[39mconfig\u001b[38;5;241m.\u001b[39mupdate(combined_dict, allow_val_change\u001b[38;5;241m=\u001b[39m\u001b[38;5;28;01mTrue\u001b[39;00m)\n",
      "File \u001b[0;32m~/anaconda3/envs/research/lib/python3.10/site-packages/wandb/sdk/wandb_init.py:1281\u001b[0m, in \u001b[0;36minit\u001b[0;34m(entity, project, dir, id, name, notes, tags, config, config_exclude_keys, config_include_keys, allow_val_change, group, job_type, mode, force, anonymous, reinit, resume, resume_from, fork_from, save_code, tensorboard, sync_tensorboard, monitor_gym, settings)\u001b[0m\n\u001b[1;32m   1279\u001b[0m \u001b[38;5;28;01mtry\u001b[39;00m:\n\u001b[1;32m   1280\u001b[0m     wi \u001b[38;5;241m=\u001b[39m _WandbInit()\n\u001b[0;32m-> 1281\u001b[0m     \u001b[43mwi\u001b[49m\u001b[38;5;241;43m.\u001b[39;49m\u001b[43msetup\u001b[49m\u001b[43m(\u001b[49m\n\u001b[1;32m   1282\u001b[0m \u001b[43m        \u001b[49m\u001b[43minit_settings\u001b[49m\u001b[38;5;241;43m=\u001b[39;49m\u001b[43minit_settings\u001b[49m\u001b[43m,\u001b[49m\n\u001b[1;32m   1283\u001b[0m \u001b[43m        \u001b[49m\u001b[43mconfig\u001b[49m\u001b[38;5;241;43m=\u001b[39;49m\u001b[43mconfig\u001b[49m\u001b[43m,\u001b[49m\n\u001b[1;32m   1284\u001b[0m \u001b[43m        \u001b[49m\u001b[43mconfig_exclude_keys\u001b[49m\u001b[38;5;241;43m=\u001b[39;49m\u001b[43mconfig_exclude_keys\u001b[49m\u001b[43m,\u001b[49m\n\u001b[1;32m   1285\u001b[0m \u001b[43m        \u001b[49m\u001b[43mconfig_include_keys\u001b[49m\u001b[38;5;241;43m=\u001b[39;49m\u001b[43mconfig_include_keys\u001b[49m\u001b[43m,\u001b[49m\n\u001b[1;32m   1286\u001b[0m \u001b[43m        \u001b[49m\u001b[43mallow_val_change\u001b[49m\u001b[38;5;241;43m=\u001b[39;49m\u001b[43mallow_val_change\u001b[49m\u001b[43m,\u001b[49m\n\u001b[1;32m   1287\u001b[0m \u001b[43m        \u001b[49m\u001b[43mmonitor_gym\u001b[49m\u001b[38;5;241;43m=\u001b[39;49m\u001b[43mmonitor_gym\u001b[49m\u001b[43m,\u001b[49m\n\u001b[1;32m   1288\u001b[0m \u001b[43m    \u001b[49m\u001b[43m)\u001b[49m\n\u001b[1;32m   1289\u001b[0m     \u001b[38;5;28;01mreturn\u001b[39;00m wi\u001b[38;5;241m.\u001b[39minit()\n\u001b[1;32m   1291\u001b[0m \u001b[38;5;28;01mexcept\u001b[39;00m \u001b[38;5;167;01mKeyboardInterrupt\u001b[39;00m \u001b[38;5;28;01mas\u001b[39;00m e:\n",
      "File \u001b[0;32m~/anaconda3/envs/research/lib/python3.10/site-packages/wandb/sdk/wandb_init.py:299\u001b[0m, in \u001b[0;36m_WandbInit.setup\u001b[0;34m(self, init_settings, config, config_exclude_keys, config_include_keys, allow_val_change, monitor_gym)\u001b[0m\n\u001b[1;32m    296\u001b[0m         tel\u001b[38;5;241m.\u001b[39mfeature\u001b[38;5;241m.\u001b[39mtensorboard_sync \u001b[38;5;241m=\u001b[39m \u001b[38;5;28;01mTrue\u001b[39;00m\n\u001b[1;32m    298\u001b[0m \u001b[38;5;28;01mif\u001b[39;00m \u001b[38;5;129;01mnot\u001b[39;00m settings\u001b[38;5;241m.\u001b[39m_offline \u001b[38;5;129;01mand\u001b[39;00m \u001b[38;5;129;01mnot\u001b[39;00m settings\u001b[38;5;241m.\u001b[39m_noop:\n\u001b[0;32m--> 299\u001b[0m     \u001b[43mwandb_login\u001b[49m\u001b[38;5;241;43m.\u001b[39;49m\u001b[43m_login\u001b[49m\u001b[43m(\u001b[49m\n\u001b[1;32m    300\u001b[0m \u001b[43m        \u001b[49m\u001b[43manonymous\u001b[49m\u001b[38;5;241;43m=\u001b[39;49m\u001b[43msettings\u001b[49m\u001b[38;5;241;43m.\u001b[39;49m\u001b[43manonymous\u001b[49m\u001b[43m,\u001b[49m\n\u001b[1;32m    301\u001b[0m \u001b[43m        \u001b[49m\u001b[43mforce\u001b[49m\u001b[38;5;241;43m=\u001b[39;49m\u001b[43msettings\u001b[49m\u001b[38;5;241;43m.\u001b[39;49m\u001b[43mforce\u001b[49m\u001b[43m,\u001b[49m\n\u001b[1;32m    302\u001b[0m \u001b[43m        \u001b[49m\u001b[43m_disable_warning\u001b[49m\u001b[38;5;241;43m=\u001b[39;49m\u001b[38;5;28;43;01mTrue\u001b[39;49;00m\u001b[43m,\u001b[49m\n\u001b[1;32m    303\u001b[0m \u001b[43m        \u001b[49m\u001b[43m_silent\u001b[49m\u001b[38;5;241;43m=\u001b[39;49m\u001b[43msettings\u001b[49m\u001b[38;5;241;43m.\u001b[39;49m\u001b[43mquiet\u001b[49m\u001b[43m \u001b[49m\u001b[38;5;129;43;01mor\u001b[39;49;00m\u001b[43m \u001b[49m\u001b[43msettings\u001b[49m\u001b[38;5;241;43m.\u001b[39;49m\u001b[43msilent\u001b[49m\u001b[43m,\u001b[49m\n\u001b[1;32m    304\u001b[0m \u001b[43m        \u001b[49m\u001b[43m_entity\u001b[49m\u001b[38;5;241;43m=\u001b[39;49m\u001b[43msettings\u001b[49m\u001b[38;5;241;43m.\u001b[39;49m\u001b[43mentity\u001b[49m\u001b[43m,\u001b[49m\n\u001b[1;32m    305\u001b[0m \u001b[43m    \u001b[49m\u001b[43m)\u001b[49m\n\u001b[1;32m    307\u001b[0m \u001b[38;5;66;03m# apply updated global state after login was handled\u001b[39;00m\n\u001b[1;32m    308\u001b[0m login_settings \u001b[38;5;241m=\u001b[39m {\n\u001b[1;32m    309\u001b[0m     k: v\n\u001b[1;32m    310\u001b[0m     \u001b[38;5;28;01mfor\u001b[39;00m k, v \u001b[38;5;129;01min\u001b[39;00m {\n\u001b[0;32m   (...)\u001b[0m\n\u001b[1;32m    317\u001b[0m     \u001b[38;5;28;01mif\u001b[39;00m v \u001b[38;5;129;01mis\u001b[39;00m \u001b[38;5;129;01mnot\u001b[39;00m \u001b[38;5;28;01mNone\u001b[39;00m\n\u001b[1;32m    318\u001b[0m }\n",
      "File \u001b[0;32m~/anaconda3/envs/research/lib/python3.10/site-packages/wandb/sdk/wandb_login.py:328\u001b[0m, in \u001b[0;36m_login\u001b[0;34m(anonymous, key, relogin, host, force, timeout, _backend, _silent, _disable_warning, _entity)\u001b[0m\n\u001b[1;32m    325\u001b[0m     \u001b[38;5;28;01mreturn\u001b[39;00m \u001b[38;5;28;01mTrue\u001b[39;00m\n\u001b[1;32m    327\u001b[0m \u001b[38;5;66;03m# perform a login\u001b[39;00m\n\u001b[0;32m--> 328\u001b[0m logged_in \u001b[38;5;241m=\u001b[39m \u001b[43mwlogin\u001b[49m\u001b[38;5;241;43m.\u001b[39;49m\u001b[43mlogin\u001b[49m\u001b[43m(\u001b[49m\u001b[43m)\u001b[49m\n\u001b[1;32m    330\u001b[0m \u001b[38;5;28;01mif\u001b[39;00m key:\n\u001b[1;32m    331\u001b[0m     wlogin\u001b[38;5;241m.\u001b[39mconfigure_api_key(key)\n",
      "File \u001b[0;32m~/anaconda3/envs/research/lib/python3.10/site-packages/wandb/sdk/wandb_login.py:175\u001b[0m, in \u001b[0;36m_WandbLogin.login\u001b[0;34m(self)\u001b[0m\n\u001b[1;32m    172\u001b[0m     \u001b[38;5;28;01mreturn\u001b[39;00m \u001b[38;5;28;01mFalse\u001b[39;00m\n\u001b[1;32m    174\u001b[0m \u001b[38;5;28;01mif\u001b[39;00m \u001b[38;5;129;01mnot\u001b[39;00m \u001b[38;5;28mself\u001b[39m\u001b[38;5;241m.\u001b[39m_silent:\n\u001b[0;32m--> 175\u001b[0m     \u001b[38;5;28;43mself\u001b[39;49m\u001b[38;5;241;43m.\u001b[39;49m\u001b[43m_print_logged_in_message\u001b[49m\u001b[43m(\u001b[49m\u001b[43m)\u001b[49m\n\u001b[1;32m    177\u001b[0m \u001b[38;5;28;01mreturn\u001b[39;00m apikey_configured\n",
      "File \u001b[0;32m~/anaconda3/envs/research/lib/python3.10/site-packages/wandb/sdk/wandb_login.py:181\u001b[0m, in \u001b[0;36m_WandbLogin._print_logged_in_message\u001b[0;34m(self)\u001b[0m\n\u001b[1;32m    179\u001b[0m \u001b[38;5;28;01mdef\u001b[39;00m \u001b[38;5;21m_print_logged_in_message\u001b[39m(\u001b[38;5;28mself\u001b[39m) \u001b[38;5;241m-\u001b[39m\u001b[38;5;241m>\u001b[39m \u001b[38;5;28;01mNone\u001b[39;00m:\n\u001b[1;32m    180\u001b[0m \u001b[38;5;250m    \u001b[39m\u001b[38;5;124;03m\"\"\"Prints a message telling the user they are logged in.\"\"\"\u001b[39;00m\n\u001b[0;32m--> 181\u001b[0m     username \u001b[38;5;241m=\u001b[39m \u001b[38;5;28;43mself\u001b[39;49m\u001b[38;5;241;43m.\u001b[39;49m\u001b[43m_wl\u001b[49m\u001b[38;5;241;43m.\u001b[39;49m\u001b[43m_get_username\u001b[49m\u001b[43m(\u001b[49m\u001b[43m)\u001b[49m\n\u001b[1;32m    183\u001b[0m     \u001b[38;5;28;01mif\u001b[39;00m username:\n\u001b[1;32m    184\u001b[0m         \u001b[38;5;66;03m# check to see if we got an entity from the setup call or from the user\u001b[39;00m\n\u001b[1;32m    185\u001b[0m         entity \u001b[38;5;241m=\u001b[39m \u001b[38;5;28mself\u001b[39m\u001b[38;5;241m.\u001b[39m_entity \u001b[38;5;129;01mor\u001b[39;00m \u001b[38;5;28mself\u001b[39m\u001b[38;5;241m.\u001b[39m_wl\u001b[38;5;241m.\u001b[39m_get_entity()\n",
      "File \u001b[0;32m~/anaconda3/envs/research/lib/python3.10/site-packages/wandb/sdk/wandb_setup.py:190\u001b[0m, in \u001b[0;36m_WandbSetup._get_username\u001b[0;34m(self)\u001b[0m\n\u001b[1;32m    188\u001b[0m     \u001b[38;5;28;01mreturn\u001b[39;00m \u001b[38;5;28;01mNone\u001b[39;00m\n\u001b[1;32m    189\u001b[0m \u001b[38;5;28;01mif\u001b[39;00m \u001b[38;5;28mself\u001b[39m\u001b[38;5;241m.\u001b[39m_server \u001b[38;5;129;01mis\u001b[39;00m \u001b[38;5;28;01mNone\u001b[39;00m:\n\u001b[0;32m--> 190\u001b[0m     \u001b[38;5;28;43mself\u001b[39;49m\u001b[38;5;241;43m.\u001b[39;49m\u001b[43m_load_viewer\u001b[49m\u001b[43m(\u001b[49m\u001b[43m)\u001b[49m\n\u001b[1;32m    191\u001b[0m \u001b[38;5;28;01massert\u001b[39;00m \u001b[38;5;28mself\u001b[39m\u001b[38;5;241m.\u001b[39m_server \u001b[38;5;129;01mis\u001b[39;00m \u001b[38;5;129;01mnot\u001b[39;00m \u001b[38;5;28;01mNone\u001b[39;00m\n\u001b[1;32m    192\u001b[0m \u001b[38;5;28;01mreturn\u001b[39;00m \u001b[38;5;28mself\u001b[39m\u001b[38;5;241m.\u001b[39m_server\u001b[38;5;241m.\u001b[39m_viewer\u001b[38;5;241m.\u001b[39mget(\u001b[38;5;124m\"\u001b[39m\u001b[38;5;124musername\u001b[39m\u001b[38;5;124m\"\u001b[39m)\n",
      "File \u001b[0;32m~/anaconda3/envs/research/lib/python3.10/site-packages/wandb/sdk/wandb_setup.py:209\u001b[0m, in \u001b[0;36m_WandbSetup._load_viewer\u001b[0;34m(self)\u001b[0m\n\u001b[1;32m    207\u001b[0m     \u001b[38;5;28;01mreturn\u001b[39;00m\n\u001b[1;32m    208\u001b[0m s \u001b[38;5;241m=\u001b[39m server\u001b[38;5;241m.\u001b[39mServer(settings\u001b[38;5;241m=\u001b[39m\u001b[38;5;28mself\u001b[39m\u001b[38;5;241m.\u001b[39m_settings)\n\u001b[0;32m--> 209\u001b[0m \u001b[43ms\u001b[49m\u001b[38;5;241;43m.\u001b[39;49m\u001b[43mquery_with_timeout\u001b[49m\u001b[43m(\u001b[49m\u001b[43m)\u001b[49m\n\u001b[1;32m    210\u001b[0m \u001b[38;5;28mself\u001b[39m\u001b[38;5;241m.\u001b[39m_server \u001b[38;5;241m=\u001b[39m s\n",
      "File \u001b[0;32m~/anaconda3/envs/research/lib/python3.10/site-packages/wandb/sdk/lib/server.py:30\u001b[0m, in \u001b[0;36mServer.query_with_timeout\u001b[0;34m(self, timeout)\u001b[0m\n\u001b[1;32m     28\u001b[0m async_viewer \u001b[38;5;241m=\u001b[39m util\u001b[38;5;241m.\u001b[39masync_call(\u001b[38;5;28mself\u001b[39m\u001b[38;5;241m.\u001b[39m_api\u001b[38;5;241m.\u001b[39mviewer_server_info, timeout\u001b[38;5;241m=\u001b[39mtimeout)\n\u001b[1;32m     29\u001b[0m \u001b[38;5;28;01mtry\u001b[39;00m:\n\u001b[0;32m---> 30\u001b[0m     viewer_tuple, viewer_thread \u001b[38;5;241m=\u001b[39m \u001b[43masync_viewer\u001b[49m\u001b[43m(\u001b[49m\u001b[43m)\u001b[49m\n\u001b[1;32m     31\u001b[0m \u001b[38;5;28;01mexcept\u001b[39;00m \u001b[38;5;167;01mException\u001b[39;00m:\n\u001b[1;32m     32\u001b[0m     \u001b[38;5;28;01mreturn\u001b[39;00m\n",
      "File \u001b[0;32m~/anaconda3/envs/research/lib/python3.10/site-packages/wandb/util.py:1196\u001b[0m, in \u001b[0;36masync_call.<locals>.wrapper\u001b[0;34m(*args, **kwargs)\u001b[0m\n\u001b[1;32m   1194\u001b[0m thread\u001b[38;5;241m.\u001b[39mstart()\n\u001b[1;32m   1195\u001b[0m \u001b[38;5;28;01mtry\u001b[39;00m:\n\u001b[0;32m-> 1196\u001b[0m     result \u001b[38;5;241m=\u001b[39m \u001b[43mq\u001b[49m\u001b[38;5;241;43m.\u001b[39;49m\u001b[43mget\u001b[49m\u001b[43m(\u001b[49m\u001b[38;5;28;43;01mTrue\u001b[39;49;00m\u001b[43m,\u001b[49m\u001b[43m \u001b[49m\u001b[43mtimeout\u001b[49m\u001b[43m)\u001b[49m\n\u001b[1;32m   1197\u001b[0m     \u001b[38;5;28;01mif\u001b[39;00m \u001b[38;5;28misinstance\u001b[39m(result, \u001b[38;5;167;01mException\u001b[39;00m):\n\u001b[1;32m   1198\u001b[0m         \u001b[38;5;28;01mraise\u001b[39;00m result\u001b[38;5;241m.\u001b[39mwith_traceback(sys\u001b[38;5;241m.\u001b[39mexc_info()[\u001b[38;5;241m2\u001b[39m])\n",
      "File \u001b[0;32m~/anaconda3/envs/research/lib/python3.10/queue.py:180\u001b[0m, in \u001b[0;36mQueue.get\u001b[0;34m(self, block, timeout)\u001b[0m\n\u001b[1;32m    178\u001b[0m         \u001b[38;5;28;01mif\u001b[39;00m remaining \u001b[38;5;241m<\u001b[39m\u001b[38;5;241m=\u001b[39m \u001b[38;5;241m0.0\u001b[39m:\n\u001b[1;32m    179\u001b[0m             \u001b[38;5;28;01mraise\u001b[39;00m Empty\n\u001b[0;32m--> 180\u001b[0m         \u001b[38;5;28;43mself\u001b[39;49m\u001b[38;5;241;43m.\u001b[39;49m\u001b[43mnot_empty\u001b[49m\u001b[38;5;241;43m.\u001b[39;49m\u001b[43mwait\u001b[49m\u001b[43m(\u001b[49m\u001b[43mremaining\u001b[49m\u001b[43m)\u001b[49m\n\u001b[1;32m    181\u001b[0m item \u001b[38;5;241m=\u001b[39m \u001b[38;5;28mself\u001b[39m\u001b[38;5;241m.\u001b[39m_get()\n\u001b[1;32m    182\u001b[0m \u001b[38;5;28mself\u001b[39m\u001b[38;5;241m.\u001b[39mnot_full\u001b[38;5;241m.\u001b[39mnotify()\n",
      "File \u001b[0;32m~/anaconda3/envs/research/lib/python3.10/threading.py:324\u001b[0m, in \u001b[0;36mCondition.wait\u001b[0;34m(self, timeout)\u001b[0m\n\u001b[1;32m    322\u001b[0m \u001b[38;5;28;01melse\u001b[39;00m:\n\u001b[1;32m    323\u001b[0m     \u001b[38;5;28;01mif\u001b[39;00m timeout \u001b[38;5;241m>\u001b[39m \u001b[38;5;241m0\u001b[39m:\n\u001b[0;32m--> 324\u001b[0m         gotit \u001b[38;5;241m=\u001b[39m \u001b[43mwaiter\u001b[49m\u001b[38;5;241;43m.\u001b[39;49m\u001b[43macquire\u001b[49m\u001b[43m(\u001b[49m\u001b[38;5;28;43;01mTrue\u001b[39;49;00m\u001b[43m,\u001b[49m\u001b[43m \u001b[49m\u001b[43mtimeout\u001b[49m\u001b[43m)\u001b[49m\n\u001b[1;32m    325\u001b[0m     \u001b[38;5;28;01melse\u001b[39;00m:\n\u001b[1;32m    326\u001b[0m         gotit \u001b[38;5;241m=\u001b[39m waiter\u001b[38;5;241m.\u001b[39macquire(\u001b[38;5;28;01mFalse\u001b[39;00m)\n",
      "\u001b[0;31mKeyboardInterrupt\u001b[0m: "
     ]
    }
   ],
   "source": [
    "\n"
   ]
  },
  {
   "cell_type": "code",
   "execution_count": 18,
   "id": "198ba910",
   "metadata": {},
   "outputs": [
    {
     "name": "stdout",
     "output_type": "stream",
     "text": [
      "0.09228080880925305\n"
     ]
    }
   ],
   "source": [
    "#in a text file count comma to words ratio\n",
    "file = \"/home/kunalkushwahatg/Research/data/raw/shakespeare.txt\"\n",
    "with open(file, \"r\") as f:\n",
    "    text = f.read()\n",
    "\n",
    "words = text.split()\n",
    "commas = text.split(\",\")\n",
    "print(len(commas)/len(words))\n",
    "\n"
   ]
  },
  {
   "cell_type": "code",
   "execution_count": null,
   "id": "5da2a2b3",
   "metadata": {},
   "outputs": [],
   "source": []
  }
 ],
 "metadata": {
  "kernelspec": {
   "display_name": "research",
   "language": "python",
   "name": "python3"
  },
  "language_info": {
   "codemirror_mode": {
    "name": "ipython",
    "version": 3
   },
   "file_extension": ".py",
   "mimetype": "text/x-python",
   "name": "python",
   "nbconvert_exporter": "python",
   "pygments_lexer": "ipython3",
   "version": "3.10.14"
  }
 },
 "nbformat": 4,
 "nbformat_minor": 5
}
